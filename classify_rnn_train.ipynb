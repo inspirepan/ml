{
 "cells": [
  {
   "cell_type": "markdown",
   "metadata": {},
   "source": [
    "# classify\n"
   ]
  },
  {
   "cell_type": "code",
   "execution_count": 45,
   "metadata": {},
   "outputs": [],
   "source": [
    "import torch\n",
    "from torch import nn\n",
    "from torch.nn import functional as F\n",
    "import numpy as np"
   ]
  },
  {
   "cell_type": "markdown",
   "metadata": {},
   "source": [
    "## data\n"
   ]
  },
  {
   "cell_type": "code",
   "execution_count": 46,
   "metadata": {},
   "outputs": [
    {
     "name": "stdout",
     "output_type": "stream",
     "text": [
      "{'Czech': 519, 'German': 724, 'Arabic': 2000, 'Japanese': 991, 'Chinese': 268, 'Vietnamese': 73, 'Russian': 9384, 'French': 277, 'Irish': 232, 'English': 3668, 'Spanish': 298, 'Greek': 203, 'Italian': 709, 'Portuguese': 74, 'Scottish': 100, 'Dutch': 297, 'Korean': 94, 'Polish': 139}\n",
      "18038 2012\n"
     ]
    }
   ],
   "source": [
    "\n",
    "import os\n",
    "\n",
    "\n",
    "def load_name_data(data_dir):\n",
    "    # Dictionary to store language to names mapping\n",
    "    language_names = {}\n",
    "\n",
    "    # Iterate through all files in the directory\n",
    "    for filename in os.listdir(data_dir):\n",
    "        if filename.endswith('.txt'):\n",
    "            # Get language from filename (remove .txt extension)\n",
    "            language = filename[:-4]\n",
    "\n",
    "            # Read all names from the file\n",
    "            with open(os.path.join(data_dir, filename), 'r', encoding='utf-8') as f:\n",
    "                names = [line.strip().lower() for line in f.readlines()]\n",
    "\n",
    "            # Store names in dictionary\n",
    "            language_names[language] = names\n",
    "\n",
    "    return language_names\n",
    "\n",
    "\n",
    "# Usage\n",
    "data_dir = 'name_classify_data/names'\n",
    "language_names = load_name_data(data_dir)\n",
    "print({key: len(language_names[key]) for key in language_names.keys()})\n",
    "\n",
    "train_data = []\n",
    "test_data = []\n",
    "np.random.seed(42)  # Set random seed for reproducibility\n",
    "\n",
    "for lang, names in language_names.items():\n",
    "    # Split names for each language\n",
    "    # Shuffle the names to ensure random distribution in train/test sets\n",
    "    np.random.shuffle(names)\n",
    "    split_idx = int(0.9 * len(names))\n",
    "    train_names = names[:split_idx]\n",
    "    test_names = names[split_idx:]\n",
    "\n",
    "    # Add to train and test datasets\n",
    "    train_data.extend([(name, lang) for name in train_names])\n",
    "    test_data.extend([(name, lang) for name in test_names])\n",
    "print(len(train_data), len(test_data))"
   ]
  },
  {
   "cell_type": "code",
   "execution_count": 47,
   "metadata": {},
   "outputs": [
    {
     "name": "stdout",
     "output_type": "stream",
     "text": [
      "{' ': 0, \"'\": 1, '-': 2, '1': 3, 'a': 4, 'b': 5, 'c': 6, 'd': 7, 'e': 8, 'f': 9, 'g': 10, 'h': 11, 'i': 12, 'j': 13, 'k': 14, 'l': 15, 'm': 16, 'n': 17, 'o': 18, 'p': 19, 'q': 20, 'r': 21, 's': 22, 't': 23, 'u': 24, 'v': 25, 'w': 26, 'x': 27, 'y': 28, 'z': 29, 'ß': 30, 'à': 31, 'á': 32, 'ã': 33, 'ä': 34, 'ç': 35, 'è': 36, 'é': 37, 'ê': 38, 'ì': 39, 'í': 40, 'ñ': 41, 'ò': 42, 'ó': 43, 'õ': 44, 'ö': 45, 'ù': 46, 'ú': 47, 'ü': 48, 'ą': 49, 'ł': 50, 'ń': 51, 'ś': 52, 'ż': 53}\n",
      "{'Czech': 0, 'German': 1, 'Arabic': 2, 'Japanese': 3, 'Chinese': 4, 'Vietnamese': 5, 'Russian': 6, 'French': 7, 'Irish': 8, 'English': 9, 'Spanish': 10, 'Greek': 11, 'Italian': 12, 'Portuguese': 13, 'Scottish': 14, 'Dutch': 15, 'Korean': 16, 'Polish': 17}\n"
     ]
    }
   ],
   "source": [
    "chars = sorted(list(set(''.join([name for names in language_names.values() for name in names]))))\n",
    "vocab_size = len(chars)\n",
    "wtoi = {ch: i for i, ch in enumerate(chars)}\n",
    "itow = {i: ch for i, ch in enumerate(chars)}\n",
    "print(wtoi)\n",
    "\n",
    "langtoi = {lang: i for i, lang in enumerate(language_names.keys())}\n",
    "itolang = {i: lang for lang, i in langtoi.items()}\n",
    "n_lang = len(langtoi)\n",
    "print(langtoi)"
   ]
  },
  {
   "cell_type": "code",
   "execution_count": 48,
   "metadata": {},
   "outputs": [
    {
     "name": "stdout",
     "output_type": "stream",
     "text": [
      "18038 2012\n"
     ]
    }
   ],
   "source": [
    "from torch.utils.data import Dataset, DataLoader, random_split\n",
    "\n",
    "\n",
    "class NameDataSet(Dataset):\n",
    "    def __init__(self, data):\n",
    "        self.data = data\n",
    "\n",
    "    def __len__(self):\n",
    "        return len(self.data)\n",
    "\n",
    "    def __getitem__(self, idx):\n",
    "        name, lang = self.data[idx]\n",
    "        x = torch.tensor([wtoi[ch] for ch in name], dtype=torch.long)\n",
    "        y = torch.tensor([langtoi[lang]], dtype=torch.long)\n",
    "        return x, y\n",
    "\n",
    "\n",
    "print(len(train_data), len(test_data))\n",
    "train_dataset = NameDataSet(train_data)\n",
    "test_dataset = NameDataSet(test_data)"
   ]
  },
  {
   "cell_type": "code",
   "execution_count": 49,
   "metadata": {},
   "outputs": [],
   "source": [
    "from torch.nn.utils.rnn import pad_sequence\n",
    "\n",
    "\n",
    "@torch.inference_mode()\n",
    "def evaluate(model, loader):\n",
    "    model.eval()\n",
    "    lossi = []\n",
    "    for batch in loader:\n",
    "        x, y = zip(*batch)\n",
    "        lengths = torch.tensor([len(seq) for seq in x], dtype=torch.long)\n",
    "        x = pad_sequence(x, batch_first=True, padding_value=0)\n",
    "        y = torch.stack(list(y), dim=0).squeeze(1)\n",
    "        logits, loss = model(x, lengths, y)\n",
    "        lossi.append(loss.item())\n",
    "    model.train()\n",
    "    return torch.tensor(lossi).mean()\n",
    "\n",
    "\n",
    "class EarlyStopping:\n",
    "    def __init__(self, patience=5, min_delta=0):\n",
    "        \"\"\"\n",
    "        Args:\n",
    "            patience (int): How many epochs to wait after last time validation loss improved.\n",
    "            min_delta (float): Minimum change in the monitored quantity to qualify as an improvement.\n",
    "        \"\"\"\n",
    "        self.patience = patience\n",
    "        self.min_delta = min_delta\n",
    "        self.counter = 0\n",
    "        self.best_loss = float('inf')\n",
    "        self.early_stop = False\n",
    "\n",
    "    def __call__(self, val_loss):\n",
    "        if val_loss < self.best_loss - self.min_delta:\n",
    "            self.best_loss = val_loss\n",
    "            self.counter = 0\n",
    "        else:\n",
    "            self.counter += 1\n",
    "            if self.counter >= self.patience:\n",
    "                self.early_stop = True"
   ]
  },
  {
   "cell_type": "markdown",
   "metadata": {},
   "source": [
    "## model\n"
   ]
  },
  {
   "cell_type": "code",
   "execution_count": 50,
   "metadata": {},
   "outputs": [
    {
     "name": "stdout",
     "output_type": "stream",
     "text": [
      "RNN(\n",
      "  (embedding): Embedding(54, 256)\n",
      "  (rnn): GRU(256, 512, num_layers=4, batch_first=True, bidirectional=True)\n",
      "  (dropout): Dropout(p=0.2, inplace=False)\n",
      "  (fc): Linear(in_features=1024, out_features=18, bias=True)\n",
      ")\n"
     ]
    }
   ],
   "source": [
    "from torch.nn.utils.rnn import pack_padded_sequence\n",
    "\n",
    "\n",
    "class RNN(nn.Module):\n",
    "    def __init__(self, n_embd, n_hidden, n_lang, bidirectional=True, num_layers=2):\n",
    "        super().__init__()\n",
    "        self.n_embd = n_embd\n",
    "        self.n_hidden = n_hidden\n",
    "        self.n_lang = n_lang\n",
    "        self.bidirectional = bidirectional\n",
    "        self.num_layers = num_layers\n",
    "\n",
    "        self.embedding = nn.Embedding(vocab_size, n_embd)\n",
    "        self.rnn = nn.GRU(n_embd, n_hidden, batch_first=True, num_layers=self.num_layers, bidirectional=bidirectional)\n",
    "        self.dropout = nn.Dropout(0.2)\n",
    "        self.fc = nn.Linear(n_hidden * 2 if bidirectional else n_hidden, n_lang)\n",
    "\n",
    "    def forward(self, x, lengths, y=None):\n",
    "        # x: (B, T)\n",
    "        # y: (B, )\n",
    "        x = self.embedding(x)  # (B, T, n_embd)\n",
    "        x = self.dropout(x)\n",
    "        x = pack_padded_sequence(x, lengths, batch_first=True, enforce_sorted=False)\n",
    "        x, h = self.rnn(x)  # h: (num_layers * 2, B, n_hidden) if bidirectional\n",
    "        if self.bidirectional:\n",
    "            # Concatenate the last forward and backward hidden states\n",
    "            h = h.view(self.num_layers, 2, h.size(1), h.size(2))  # (num_layers, 2, B, n_hidden)\n",
    "            h = h[-1]  # Take the last layer's forward and backward states (2, B, n_hidden)\n",
    "            h = torch.cat([h[0], h[1]], dim=1)  # Concatenate along hidden dimension (B, n_hidden * 2)\n",
    "        else:\n",
    "            h = h[-1]  # Take the last layer's hidden state (B, n_hidden)\n",
    "        logits = self.fc(h)  # (B, n_lang)\n",
    "\n",
    "        loss = None\n",
    "        if y is not None:\n",
    "            loss = F.cross_entropy(logits, y)\n",
    "        return logits, loss\n",
    "\n",
    "\n",
    "n_embd = 256\n",
    "n_hidden = 512\n",
    "batch_size = 128\n",
    "max_epoch = 40\n",
    "model = RNN(n_embd, n_hidden, n_lang, bidirectional=True, num_layers=4)\n",
    "optimizer = torch.optim.AdamW(model.parameters(), lr=1e-3, weight_decay=0.01, betas=(0.9, 0.99), eps=1e-8)\n",
    "\n",
    "train_loader = DataLoader(train_dataset, batch_size=batch_size, shuffle=True, collate_fn=lambda x: x)\n",
    "test_loader = DataLoader(test_dataset, batch_size=batch_size, shuffle=True, collate_fn=lambda x: x)\n",
    "# Modify training loop to include early stopping\n",
    "early_stopping = EarlyStopping(patience=5, min_delta=0.01)  # Adjust patience and min_delta as needed\n",
    "print(model)"
   ]
  },
  {
   "cell_type": "markdown",
   "metadata": {},
   "source": [
    "## train\n"
   ]
  },
  {
   "cell_type": "code",
   "execution_count": 51,
   "metadata": {},
   "outputs": [
    {
     "name": "stdout",
     "output_type": "stream",
     "text": [
      "[0] loss: 2.916149377822876\n",
      "[30] loss: 1.2308963537216187\n",
      "[60] loss: 1.021941900253296\n",
      "[90] loss: 0.9710808396339417\n",
      "[120] loss: 0.7143421173095703\n",
      "[epoch 0] train loss: 0.6324557662010193, test loss: 0.6920432448387146\n",
      "[0] loss: 0.6133712530136108\n",
      "[30] loss: 0.5981611013412476\n",
      "[60] loss: 0.6306625604629517\n",
      "[90] loss: 0.621857225894928\n",
      "[120] loss: 0.585360586643219\n",
      "[epoch 1] train loss: 0.46825847029685974, test loss: 0.6032044291496277\n",
      "[0] loss: 0.49576810002326965\n",
      "[30] loss: 0.3743584156036377\n",
      "[60] loss: 0.47304072976112366\n",
      "[90] loss: 0.5067257881164551\n",
      "[120] loss: 0.6030434966087341\n",
      "[epoch 2] train loss: 0.347581148147583, test loss: 0.5646539330482483\n",
      "[0] loss: 0.3944414258003235\n",
      "[30] loss: 0.27816203236579895\n",
      "[60] loss: 0.27957066893577576\n",
      "[90] loss: 0.3138396441936493\n",
      "[120] loss: 0.4332015812397003\n",
      "[epoch 3] train loss: 0.2563941478729248, test loss: 0.5596232414245605\n",
      "[0] loss: 0.3659593164920807\n",
      "[30] loss: 0.2803983688354492\n",
      "[60] loss: 0.15152938663959503\n",
      "[90] loss: 0.35038962960243225\n",
      "[120] loss: 0.3632560670375824\n",
      "[epoch 4] train loss: 0.1950145959854126, test loss: 0.5633183717727661\n",
      "[0] loss: 0.22576436400413513\n",
      "[30] loss: 0.31757333874702454\n",
      "[60] loss: 0.2822606861591339\n",
      "[90] loss: 0.4456541836261749\n",
      "[120] loss: 0.29617658257484436\n",
      "[epoch 5] train loss: 0.14871767163276672, test loss: 0.5819811224937439\n",
      "[0] loss: 0.17718158662319183\n",
      "[30] loss: 0.2384093850851059\n",
      "[60] loss: 0.2888847589492798\n",
      "[90] loss: 0.2282537817955017\n",
      "[120] loss: 0.1745414435863495\n",
      "[epoch 6] train loss: 0.12847454845905304, test loss: 0.6181128621101379\n",
      "[0] loss: 0.10897143185138702\n",
      "[30] loss: 0.08673892170190811\n",
      "[60] loss: 0.20471498370170593\n",
      "[90] loss: 0.18625931441783905\n",
      "[120] loss: 0.2565757632255554\n",
      "[epoch 7] train loss: 0.11926408857107162, test loss: 0.6667036414146423\n",
      "Early stopping at epoch 7\n"
     ]
    }
   ],
   "source": [
    "train_lossi = []\n",
    "test_lossi = []\n",
    "\n",
    "for epoch in range(max_epoch):\n",
    "    i = 0\n",
    "    for batch in train_loader:\n",
    "        x, y = zip(*batch)\n",
    "        lengths = torch.tensor([len(seq) for seq in x], dtype=torch.long)\n",
    "        x = pad_sequence(x, batch_first=True, padding_value=0)\n",
    "        y = torch.stack(list(y), dim=0).squeeze(1)\n",
    "        logits, loss = model(x, lengths, y)\n",
    "        if i % 30 == 0:\n",
    "            print(f\"[{i}] loss: {loss}\")\n",
    "        optimizer.zero_grad()\n",
    "        loss.backward()\n",
    "        optimizer.step()\n",
    "        i += 1\n",
    "    train_loss = evaluate(model, train_loader)\n",
    "    test_loss = evaluate(model, test_loader)\n",
    "    train_lossi.append(train_loss)\n",
    "    test_lossi.append(test_loss)\n",
    "    print(f\"[epoch {epoch}] train loss: {train_loss}, test loss: {test_loss}\")\n",
    "    early_stopping(test_loss)\n",
    "    if early_stopping.early_stop:\n",
    "        print(f\"Early stopping at epoch {epoch}\")\n",
    "        break"
   ]
  },
  {
   "cell_type": "code",
   "execution_count": 52,
   "metadata": {},
   "outputs": [
    {
     "data": {
      "image/png": "[encoded data removed]",
      "text/plain": [
       "<Figure size 640x480 with 1 Axes>"
      ]
     },
     "metadata": {},
     "output_type": "display_data"
    }
   ],
   "source": [
    "import matplotlib.pyplot as plt\n",
    "fig = plt.figure()\n",
    "ax = fig.add_subplot(111)\n",
    "ax.plot(train_lossi, label=\"train\")\n",
    "ax.plot(test_lossi, label=\"test\")\n",
    "ax.legend()\n",
    "plt.show()"
   ]
  },
  {
   "cell_type": "code",
   "execution_count": 53,
   "metadata": {},
   "outputs": [
    {
     "name": "stdout",
     "output_type": "stream",
     "text": [
      "Total Accuracy: 84.10%\n",
      "\n",
      "Arabic    : 100.00%, 0.00%, 200  \n",
      "Russian   : 96.06%, 2.13%, 939  \n",
      "Japanese  : 92.00%, 2.00%, 100  \n",
      "Greek     : 85.71%, 4.76%, 21   \n",
      "English   : 79.56%, 13.35%, 367  \n",
      "Italian   : 73.24%, 15.49%, 71   \n",
      "Chinese   : 66.67%, 18.52%, 27   \n",
      "German    : 63.01%, 20.55%, 73   \n",
      "Dutch     : 53.33%, 16.67%, 30   \n",
      "French    : 46.43%, 25.00%, 28   \n",
      "Czech     : 40.38%, 23.08%, 52   \n",
      "Polish    : 35.71%, 28.57%, 14   \n",
      "Irish     : 29.17%, 25.00%, 24   \n",
      "Vietnamese: 25.00%, 37.50%, 8    \n",
      "Korean    : 20.00%, 30.00%, 10   \n",
      "Spanish   : 16.67%, 26.67%, 30   \n",
      "Portuguese: 12.50%, 37.50%, 8    \n",
      "Scottish  : 0.00%, 30.00%, 10   \n"
     ]
    },
    {
     "data": {
      "image/png": "[encoded data removed]",
      "text/plain": [
       "<Figure size 640x480 with 2 Axes>"
      ]
     },
     "metadata": {},
     "output_type": "display_data"
    }
   ],
   "source": [
    "import numpy as np\n",
    "\n",
    "\n",
    "@torch.inference_mode()\n",
    "def classify(name):\n",
    "    model.eval()\n",
    "    x = torch.tensor([wtoi[ch] for ch in name], dtype=torch.long)\n",
    "    x = x.unsqueeze(0)\n",
    "    logits, _ = model(x, torch.tensor([len(name)], dtype=torch.long))\n",
    "    probs = F.softmax(logits, dim=1)\n",
    "    top2_probs, top2_indices = torch.topk(probs, 2, dim=1)\n",
    "    model.train()\n",
    "    return [(itolang[top2_indices[0][i].item()], top2_probs[0][i].item()) for i in range(2)]\n",
    "\n",
    "\n",
    "def evaluate_language_accuracy(dataset):\n",
    "    # Initialize confusion matrix and accuracy counters\n",
    "    confusion_matrix = {lang: {l: [] for l in language_names} for lang in language_names}\n",
    "    accuracy = {lang: 0 for lang in language_names}\n",
    "    accuracy2 = {lang: 0 for lang in language_names}\n",
    "    total = {lang: 0 for lang in language_names}\n",
    "\n",
    "    # Evaluate each language\n",
    "    for name, lang in test_data:\n",
    "        predictions = classify(name)\n",
    "        pred_lang, pred_prob = predictions[0]\n",
    "        pred_lang2, pred_prob2 = predictions[1]\n",
    "\n",
    "        confusion_matrix[lang][pred_lang].append(name)\n",
    "        total[lang] += 1\n",
    "        if pred_lang == lang:\n",
    "            accuracy[lang] += 1\n",
    "        if pred_lang2 == lang:\n",
    "            accuracy2[lang] += 1\n",
    "\n",
    "    # Calculate total accuracy\n",
    "    total_correct = sum(accuracy.values())\n",
    "    total_samples = sum(total.values())\n",
    "    total_accuracy = total_correct / total_samples\n",
    "    print(f\"Total Accuracy: {total_accuracy:.2%}\\n\")\n",
    "\n",
    "    # Create a list of tuples containing language, acc and acc2\n",
    "    lang_acc = [(lang, accuracy[lang]/total[lang], accuracy2[lang]/total[lang]) for lang in language_names]\n",
    "    # Sort the list by acc in descending order\n",
    "    lang_acc.sort(key=lambda x: x[1], reverse=True)\n",
    "    # Print the sorted results\n",
    "    for lang, acc, acc2 in lang_acc:\n",
    "        print(f\"{lang:<10}: {acc:.2%}, {acc2:.2%}, {total[lang]:<5}\")\n",
    "\n",
    "    langs = list(language_names.keys())\n",
    "    confusion_array = np.zeros((len(langs), len(langs)))\n",
    "    for i, lang1 in enumerate(langs):\n",
    "        for j, lang2 in enumerate(langs):\n",
    "            confusion_array[i, j] = len(confusion_matrix[lang1][lang2])\n",
    "\n",
    "    # Normalize confusion matrix\n",
    "    row_sums = confusion_array.sum(axis=1, keepdims=True)\n",
    "    confusion_array = np.divide(confusion_array, row_sums, where=row_sums != 0)\n",
    "\n",
    "    # Plot confusion matrix\n",
    "    fig, ax = plt.subplots()\n",
    "    im = ax.matshow(confusion_array, cmap='Blues')\n",
    "    plt.colorbar(im)\n",
    "\n",
    "    # Set ticks and labels\n",
    "    plt.xticks(range(len(langs)), langs, rotation=45, ha='left')\n",
    "    plt.yticks(range(len(langs)), langs)\n",
    "\n",
    "    plt.xlabel('Predicted')\n",
    "    plt.ylabel('Actual')\n",
    "    plt.title('Confusion Matrix')\n",
    "    plt.tight_layout()\n",
    "    plt.show()\n",
    "\n",
    "\n",
    "# Run evaluation\n",
    "evaluate_language_accuracy(test_data)"
   ]
  },
  {
   "cell_type": "code",
   "execution_count": null,
   "metadata": {},
   "outputs": [],
   "source": []
  }
 ],
 "metadata": {
  "kernelspec": {
   "display_name": "Python 3",
   "language": "python",
   "name": "python3"
  },
  "language_info": {
   "codemirror_mode": {
    "name": "ipython",
    "version": 3
   },
   "file_extension": ".py",
   "mimetype": "text/x-python",
   "name": "python",
   "nbconvert_exporter": "python",
   "pygments_lexer": "ipython3",
   "version": "3.11.8"
  }
 },
 "nbformat": 4,
 "nbformat_minor": 2
}
